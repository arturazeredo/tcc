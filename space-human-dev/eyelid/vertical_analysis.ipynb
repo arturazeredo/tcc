{
 "cells": [
  {
   "cell_type": "code",
   "execution_count": 66,
   "metadata": {},
   "outputs": [],
   "source": [
    "import sys\n",
    "sys.path.insert(0, '.././')  # add grandparent directory to sys.path"
   ]
  },
  {
   "cell_type": "code",
   "execution_count": 67,
   "metadata": {},
   "outputs": [],
   "source": [
    "from src.mediapipe import GooMedia\n",
    "import cv2\n",
    "import numpy as np\n",
    "from src.visualize import *\n",
    "import matplotlib.pyplot as plt\n",
    "import matplotlib.image as mpimg\n",
    "from src.utils import image_resize\n",
    "from src.geometry import get_points_media\n",
    "from src.geometry import distance_entre_points\n",
    "from PIL import Image"
   ]
  },
  {
   "cell_type": "code",
   "execution_count": 68,
   "metadata": {},
   "outputs": [],
   "source": [
    "%matplotlib qt"
   ]
  },
  {
   "cell_type": "code",
   "execution_count": 69,
   "metadata": {},
   "outputs": [],
   "source": [
    "pairs_l = [(0, 4), (1, 3), (2, 5)]"
   ]
  },
  {
   "cell_type": "code",
   "execution_count": 70,
   "metadata": {},
   "outputs": [],
   "source": [
    "def distance_mean(eyelid_list, pairs):\n",
    "    dist1 = distance_entre_points(eyelid_list, pairs[0][0], pairs[0][1])\n",
    "    dist2 = distance_entre_points(eyelid_list, pairs[1][0], pairs[1][1])\n",
    "    dist3 = distance_entre_points(eyelid_list, pairs[2][0], pairs[2][1])\n",
    "    return np.mean([dist1, dist2, dist3])"
   ]
  },
  {
   "cell_type": "code",
   "execution_count": 71,
   "metadata": {},
   "outputs": [],
   "source": [
    "def eyelid_comparsion(eyelid_bottom, eyelid_mid, eyelid_top, pairs):\n",
    "    if distance_mean(eyelid_top, pairs) < distance_mean(eyelid_bottom, pairs):\n",
    "        return \"Os olhos se abaixaram, comportamento esperado\"\n",
    "    else:\n",
    "        return \"Os olhos se levantaram, comportamento anormal\""
   ]
  },
  {
   "cell_type": "code",
   "execution_count": 72,
   "metadata": {},
   "outputs": [],
   "source": [
    "pface = GooMedia(1080) # Extrator dos pontos"
   ]
  },
  {
   "cell_type": "code",
   "execution_count": 73,
   "metadata": {},
   "outputs": [],
   "source": [
    "image_cima = cv2.imread(r\"..\\images\\inputs\\9pointscamera\\9points_x50_y17.jpg\")\n",
    "image_medio = cv2.imread(r\"..\\images\\inputs\\9pointscamera\\9points_x50_y50.jpg\")\n",
    "image_baixo = cv2.imread(r\"..\\images\\inputs\\9pointscamera\\9points_x50_y83.jpg\")"
   ]
  },
  {
   "cell_type": "code",
   "execution_count": 74,
   "metadata": {},
   "outputs": [],
   "source": [
    "image_resize_top , landmask_cima = pface.extract(image_cima)\n",
    "image_resize_mid , landmask_medio = pface.extract(image_medio)\n",
    "image_resize_bottom , landmask_baixo = pface.extract(image_baixo)"
   ]
  },
  {
   "cell_type": "code",
   "execution_count": 75,
   "metadata": {},
   "outputs": [],
   "source": [
    "points_top = pface.points_normalize(landmask_cima, image_cima.shape, index=0)\n",
    "points_mid = pface.points_normalize(landmask_medio, image_medio.shape, index=0)\n",
    "points_bottom = pface.points_normalize(landmask_baixo, image_baixo.shape, index=0)\n"
   ]
  },
  {
   "cell_type": "code",
   "execution_count": 76,
   "metadata": {},
   "outputs": [],
   "source": [
    "eyelid_l_top = get_points_media(points_top, 'eyelid_l')\n",
    "eyelid_l_mid = get_points_media(points_mid, 'eyelid_l')\n",
    "eyelid_l_bottom = get_points_media(points_bottom, 'eyelid_l')"
   ]
  },
  {
   "cell_type": "code",
   "execution_count": 77,
   "metadata": {},
   "outputs": [],
   "source": [
    "points_eyelid_top = draw_face_one_color(image_resize_top, eyelid_l_top)\n",
    "points_eyelid_mid = draw_face_one_color(image_resize_mid, eyelid_l_mid)\n",
    "points_eyelid_bottom = draw_face_one_color(image_resize_bottom, eyelid_l_bottom)"
   ]
  },
  {
   "cell_type": "code",
   "execution_count": 78,
   "metadata": {},
   "outputs": [
    {
     "data": {
      "text/plain": [
       "<matplotlib.image.AxesImage at 0x1a716ef7430>"
      ]
     },
     "execution_count": 78,
     "metadata": {},
     "output_type": "execute_result"
    }
   ],
   "source": [
    "plt.figure()\n",
    "cv2.line(image_resize_top, eyelid_l_top[2], eyelid_l_top[5], color=(255, 0, 0), thickness=1)\n",
    "cv2.line(image_resize_top, eyelid_l_top[0], eyelid_l_top[4], color=(255, 0, 0), thickness=1)\n",
    "cv2.line(image_resize_top, eyelid_l_top[1], eyelid_l_top[3], color=(255, 0, 0), thickness=1)\n",
    "plt.imshow(points_eyelid_top[...,::-1])"
   ]
  },
  {
   "cell_type": "code",
   "execution_count": 79,
   "metadata": {},
   "outputs": [
    {
     "data": {
      "text/plain": [
       "<matplotlib.image.AxesImage at 0x1a717e33670>"
      ]
     },
     "execution_count": 79,
     "metadata": {},
     "output_type": "execute_result"
    }
   ],
   "source": [
    "plt.figure()\n",
    "cv2.line(image_resize_mid, eyelid_l_mid[2], eyelid_l_mid[5], color=(255, 0, 0), thickness=1)\n",
    "cv2.line(image_resize_mid, eyelid_l_mid[0], eyelid_l_mid[4], color=(255, 0, 0), thickness=1)\n",
    "cv2.line(image_resize_mid, eyelid_l_mid[1], eyelid_l_mid[3], color=(255, 0, 0), thickness=1)\n",
    "plt.imshow(points_eyelid_mid[...,::-1])"
   ]
  },
  {
   "cell_type": "code",
   "execution_count": 80,
   "metadata": {},
   "outputs": [],
   "source": [
    "plt.figure()\n",
    "cv2.line(image_resize_bottom, eyelid_l_bottom[2], eyelid_l_bottom[5], color=(255, 0, 0), thickness=1)\n",
    "cv2.line(image_resize_bottom, eyelid_l_bottom[0], eyelid_l_bottom[4], color=(255, 0, 0), thickness=1)\n",
    "cv2.line(image_resize_bottom, eyelid_l_bottom[1], eyelid_l_bottom[3], color=(255, 0, 0), thickness=1)\n",
    "plt.imshow(points_eyelid_bottom[...,::-1]) \n",
    "plt.show()\n",
    "# open new window"
   ]
  },
  {
   "cell_type": "code",
   "execution_count": 81,
   "metadata": {},
   "outputs": [
    {
     "data": {
      "text/plain": [
       "array([203, 267])"
      ]
     },
     "execution_count": 81,
     "metadata": {},
     "output_type": "execute_result"
    }
   ],
   "source": [
    "eyelid_l_bottom[0]"
   ]
  },
  {
   "cell_type": "code",
   "execution_count": 82,
   "metadata": {},
   "outputs": [
    {
     "name": "stdout",
     "output_type": "stream",
     "text": [
      "10.816653826391969\n"
     ]
    }
   ],
   "source": [
    "print(distance_entre_points(eyelid_l_bottom, 2, 5))"
   ]
  },
  {
   "cell_type": "code",
   "execution_count": 83,
   "metadata": {},
   "outputs": [
    {
     "name": "stdout",
     "output_type": "stream",
     "text": [
      "11.40175425099138\n"
     ]
    }
   ],
   "source": [
    "print(distance_entre_points(eyelid_l_mid, 2, 5))"
   ]
  },
  {
   "cell_type": "code",
   "execution_count": 84,
   "metadata": {},
   "outputs": [
    {
     "name": "stdout",
     "output_type": "stream",
     "text": [
      "10.0\n"
     ]
    }
   ],
   "source": [
    "print(distance_entre_points(eyelid_l_top, 2, 5))"
   ]
  },
  {
   "cell_type": "code",
   "execution_count": 85,
   "metadata": {},
   "outputs": [
    {
     "name": "stdout",
     "output_type": "stream",
     "text": [
      "10.770329614269007\n"
     ]
    }
   ],
   "source": [
    "print(distance_entre_points(eyelid_l_bottom, 0, 4))"
   ]
  },
  {
   "cell_type": "code",
   "execution_count": 86,
   "metadata": {},
   "outputs": [
    {
     "name": "stdout",
     "output_type": "stream",
     "text": [
      "10.295630140987\n"
     ]
    }
   ],
   "source": [
    "print(distance_entre_points(eyelid_l_mid, 0, 4))"
   ]
  },
  {
   "cell_type": "code",
   "execution_count": 87,
   "metadata": {},
   "outputs": [
    {
     "name": "stdout",
     "output_type": "stream",
     "text": [
      "8.94427190999916\n"
     ]
    }
   ],
   "source": [
    "print(distance_entre_points(eyelid_l_top, 0, 4))"
   ]
  },
  {
   "cell_type": "code",
   "execution_count": 88,
   "metadata": {},
   "outputs": [
    {
     "name": "stdout",
     "output_type": "stream",
     "text": [
      "9.055385138137417\n"
     ]
    }
   ],
   "source": [
    "print(distance_entre_points(eyelid_l_bottom, 1, 3))"
   ]
  },
  {
   "cell_type": "code",
   "execution_count": 89,
   "metadata": {},
   "outputs": [
    {
     "name": "stdout",
     "output_type": "stream",
     "text": [
      "9.219544457292887\n"
     ]
    }
   ],
   "source": [
    "print(distance_entre_points(eyelid_l_mid, 1, 3))"
   ]
  },
  {
   "cell_type": "code",
   "execution_count": 90,
   "metadata": {},
   "outputs": [
    {
     "name": "stdout",
     "output_type": "stream",
     "text": [
      "8.246211251235321\n"
     ]
    }
   ],
   "source": [
    "print(distance_entre_points(eyelid_l_top, 1, 3))"
   ]
  },
  {
   "cell_type": "code",
   "execution_count": 91,
   "metadata": {},
   "outputs": [
    {
     "name": "stdout",
     "output_type": "stream",
     "text": [
      "Os olhos se abaixaram, comportamento esperado\n"
     ]
    }
   ],
   "source": [
    "print(eyelid_comparsion(eyelid_l_bottom, eyelid_l_mid, eyelid_l_top, pairs_l))"
   ]
  },
  {
   "cell_type": "markdown",
   "metadata": {},
   "source": [
    "--------------------------------------"
   ]
  },
  {
   "cell_type": "code",
   "execution_count": 92,
   "metadata": {},
   "outputs": [],
   "source": [
    "image_cima = cv2.imread(r\"..\\images\\inputs\\artur\\9pointscamera\\9points_x50_y17.jpg\")\n",
    "image_medio = cv2.imread(r\"..\\images\\inputs\\artur\\9pointscamera\\9points_x50_y50.jpg\")\n",
    "image_baixo = cv2.imread(r\"..\\images\\inputs\\artur\\9pointscamera\\9points_x50_y83.jpg\")"
   ]
  },
  {
   "cell_type": "code",
   "execution_count": 93,
   "metadata": {},
   "outputs": [],
   "source": [
    "image_resize_top , landmask_cima = pface.extract(image_cima)\n",
    "image_resize_mid , landmask_medio = pface.extract(image_medio)\n",
    "image_resize_bottom , landmask_baixo = pface.extract(image_baixo)"
   ]
  },
  {
   "cell_type": "code",
   "execution_count": 94,
   "metadata": {},
   "outputs": [],
   "source": [
    "points_top = pface.points_normalize(landmask_cima, image_cima.shape, index=0)\n",
    "points_mid = pface.points_normalize(landmask_medio, image_medio.shape, index=0)\n",
    "points_bottom = pface.points_normalize(landmask_baixo, image_baixo.shape, index=0)\n"
   ]
  },
  {
   "cell_type": "code",
   "execution_count": 95,
   "metadata": {},
   "outputs": [],
   "source": [
    "eyelid_l_top = get_points_media(points_top, 'eyelid_l')\n",
    "eyelid_l_mid = get_points_media(points_mid, 'eyelid_l')\n",
    "eyelid_l_bottom = get_points_media(points_bottom, 'eyelid_l')"
   ]
  },
  {
   "cell_type": "code",
   "execution_count": 96,
   "metadata": {},
   "outputs": [],
   "source": [
    "points_eyelid_top = draw_face_one_color(image_resize_top, eyelid_l_top)\n",
    "points_eyelid_mid = draw_face_one_color(image_resize_mid, eyelid_l_mid)\n",
    "points_eyelid_bottom = draw_face_one_color(image_resize_bottom, eyelid_l_bottom)"
   ]
  },
  {
   "cell_type": "code",
   "execution_count": 97,
   "metadata": {},
   "outputs": [
    {
     "data": {
      "text/plain": [
       "<matplotlib.image.AxesImage at 0x1a7182ed0c0>"
      ]
     },
     "execution_count": 97,
     "metadata": {},
     "output_type": "execute_result"
    }
   ],
   "source": [
    "plt.figure()\n",
    "cv2.line(image_resize_top, eyelid_l_top[2], eyelid_l_top[5], color=(255, 0, 0), thickness=1)\n",
    "cv2.line(image_resize_top, eyelid_l_top[0], eyelid_l_top[4], color=(255, 0, 0), thickness=1)\n",
    "cv2.line(image_resize_top, eyelid_l_top[1], eyelid_l_top[3], color=(255, 0, 0), thickness=1)\n",
    "plt.imshow(points_eyelid_top[...,::-1])"
   ]
  },
  {
   "cell_type": "code",
   "execution_count": 98,
   "metadata": {},
   "outputs": [
    {
     "data": {
      "text/plain": [
       "<matplotlib.image.AxesImage at 0x1a71835c9a0>"
      ]
     },
     "execution_count": 98,
     "metadata": {},
     "output_type": "execute_result"
    }
   ],
   "source": [
    "plt.figure()\n",
    "cv2.line(image_resize_mid, eyelid_l_mid[2], eyelid_l_mid[5], color=(255, 0, 0), thickness=1)\n",
    "cv2.line(image_resize_mid, eyelid_l_mid[0], eyelid_l_mid[4], color=(255, 0, 0), thickness=1)\n",
    "cv2.line(image_resize_mid, eyelid_l_mid[1], eyelid_l_mid[3], color=(255, 0, 0), thickness=1)\n",
    "plt.imshow(points_eyelid_mid[...,::-1])"
   ]
  },
  {
   "cell_type": "code",
   "execution_count": 99,
   "metadata": {},
   "outputs": [],
   "source": [
    "plt.figure()\n",
    "cv2.line(image_resize_bottom, eyelid_l_bottom[2], eyelid_l_bottom[5], color=(255, 0, 0), thickness=1)\n",
    "cv2.line(image_resize_bottom, eyelid_l_bottom[0], eyelid_l_bottom[4], color=(255, 0, 0), thickness=1)\n",
    "cv2.line(image_resize_bottom, eyelid_l_bottom[1], eyelid_l_bottom[3], color=(255, 0, 0), thickness=1)\n",
    "plt.imshow(points_eyelid_bottom[...,::-1]) \n",
    "plt.show()\n",
    "# open new window"
   ]
  },
  {
   "cell_type": "code",
   "execution_count": 100,
   "metadata": {},
   "outputs": [
    {
     "data": {
      "text/plain": [
       "array([180, 289])"
      ]
     },
     "execution_count": 100,
     "metadata": {},
     "output_type": "execute_result"
    }
   ],
   "source": [
    "eyelid_l_bottom[0]"
   ]
  },
  {
   "cell_type": "code",
   "execution_count": 101,
   "metadata": {},
   "outputs": [
    {
     "name": "stdout",
     "output_type": "stream",
     "text": [
      "10.295630140987\n"
     ]
    }
   ],
   "source": [
    "print(distance_entre_points(eyelid_l_bottom, 2, 5))"
   ]
  },
  {
   "cell_type": "code",
   "execution_count": 102,
   "metadata": {},
   "outputs": [
    {
     "name": "stdout",
     "output_type": "stream",
     "text": [
      "9.433981132056603\n"
     ]
    }
   ],
   "source": [
    "print(distance_entre_points(eyelid_l_mid, 2, 5))"
   ]
  },
  {
   "cell_type": "code",
   "execution_count": 103,
   "metadata": {},
   "outputs": [
    {
     "name": "stdout",
     "output_type": "stream",
     "text": [
      "8.94427190999916\n"
     ]
    }
   ],
   "source": [
    "print(distance_entre_points(eyelid_l_top, 2, 5))"
   ]
  },
  {
   "cell_type": "code",
   "execution_count": 104,
   "metadata": {},
   "outputs": [
    {
     "name": "stdout",
     "output_type": "stream",
     "text": [
      "9.486832980505138\n"
     ]
    }
   ],
   "source": [
    "print(distance_entre_points(eyelid_l_bottom, 0, 4))"
   ]
  },
  {
   "cell_type": "code",
   "execution_count": 105,
   "metadata": {},
   "outputs": [
    {
     "name": "stdout",
     "output_type": "stream",
     "text": [
      "8.54400374531753\n"
     ]
    }
   ],
   "source": [
    "print(distance_entre_points(eyelid_l_mid, 0, 4))"
   ]
  },
  {
   "cell_type": "code",
   "execution_count": 106,
   "metadata": {},
   "outputs": [
    {
     "name": "stdout",
     "output_type": "stream",
     "text": [
      "8.54400374531753\n"
     ]
    }
   ],
   "source": [
    "print(distance_entre_points(eyelid_l_top, 0, 4))"
   ]
  },
  {
   "cell_type": "code",
   "execution_count": 107,
   "metadata": {},
   "outputs": [
    {
     "name": "stdout",
     "output_type": "stream",
     "text": [
      "8.06225774829855\n"
     ]
    }
   ],
   "source": [
    "print(distance_entre_points(eyelid_l_bottom, 1, 3))"
   ]
  },
  {
   "cell_type": "code",
   "execution_count": 108,
   "metadata": {},
   "outputs": [
    {
     "name": "stdout",
     "output_type": "stream",
     "text": [
      "7.0\n"
     ]
    }
   ],
   "source": [
    "print(distance_entre_points(eyelid_l_mid, 1, 3))"
   ]
  },
  {
   "cell_type": "code",
   "execution_count": 109,
   "metadata": {},
   "outputs": [
    {
     "name": "stdout",
     "output_type": "stream",
     "text": [
      "7.0\n"
     ]
    }
   ],
   "source": [
    "print(distance_entre_points(eyelid_l_top, 1, 3))"
   ]
  },
  {
   "cell_type": "code",
   "execution_count": 110,
   "metadata": {},
   "outputs": [
    {
     "name": "stdout",
     "output_type": "stream",
     "text": [
      "Os olhos se abaixaram, comportamento esperado\n"
     ]
    }
   ],
   "source": [
    "print(eyelid_comparsion(eyelid_l_bottom, eyelid_l_mid, eyelid_l_top, pairs_l))"
   ]
  },
  {
   "cell_type": "markdown",
   "metadata": {},
   "source": [
    "-------------------------------"
   ]
  },
  {
   "cell_type": "markdown",
   "metadata": {},
   "source": []
  },
  {
   "cell_type": "code",
   "execution_count": 111,
   "metadata": {},
   "outputs": [],
   "source": [
    "image_cima = cv2.imread(r\"..\\images\\inputs\\artur\\9pointscamera\\distant\\9points_x50_y17.jpg\")\n",
    "image_medio = cv2.imread(r\"..\\images\\inputs\\artur\\9pointscamera\\distant\\9points_x50_y50.jpg\")\n",
    "image_baixo = cv2.imread(r\"..\\images\\inputs\\artur\\9pointscamera\\distant\\9points_x50_y83.jpg\")"
   ]
  },
  {
   "cell_type": "code",
   "execution_count": 112,
   "metadata": {},
   "outputs": [],
   "source": [
    "image_resize_top , landmask_cima = pface.extract(image_cima)\n",
    "image_resize_mid , landmask_medio = pface.extract(image_medio)\n",
    "image_resize_bottom , landmask_baixo = pface.extract(image_baixo)"
   ]
  },
  {
   "cell_type": "code",
   "execution_count": 113,
   "metadata": {},
   "outputs": [],
   "source": [
    "points_top = pface.points_normalize(landmask_cima, image_cima.shape, index=0)\n",
    "points_mid = pface.points_normalize(landmask_medio, image_medio.shape, index=0)\n",
    "points_bottom = pface.points_normalize(landmask_baixo, image_baixo.shape, index=0)\n"
   ]
  },
  {
   "cell_type": "code",
   "execution_count": 114,
   "metadata": {},
   "outputs": [],
   "source": [
    "eyelid_l_top = get_points_media(points_top, 'eyelid_l')\n",
    "eyelid_l_mid = get_points_media(points_mid, 'eyelid_l')\n",
    "eyelid_l_bottom = get_points_media(points_bottom, 'eyelid_l')"
   ]
  },
  {
   "cell_type": "code",
   "execution_count": 115,
   "metadata": {},
   "outputs": [],
   "source": [
    "points_eyelid_top = draw_face_one_color(image_resize_top, eyelid_l_top)\n",
    "points_eyelid_mid = draw_face_one_color(image_resize_mid, eyelid_l_mid)\n",
    "points_eyelid_bottom = draw_face_one_color(image_resize_bottom, eyelid_l_bottom)"
   ]
  },
  {
   "cell_type": "code",
   "execution_count": 116,
   "metadata": {},
   "outputs": [
    {
     "data": {
      "text/plain": [
       "<matplotlib.image.AxesImage at 0x1a718a99bd0>"
      ]
     },
     "execution_count": 116,
     "metadata": {},
     "output_type": "execute_result"
    }
   ],
   "source": [
    "plt.figure()\n",
    "cv2.line(image_resize_top, eyelid_l_top[2], eyelid_l_top[5], color=(255, 0, 0), thickness=1)\n",
    "cv2.line(image_resize_top, eyelid_l_top[0], eyelid_l_top[4], color=(255, 0, 0), thickness=1)\n",
    "cv2.line(image_resize_top, eyelid_l_top[1], eyelid_l_top[3], color=(255, 0, 0), thickness=1)\n",
    "plt.imshow(points_eyelid_top[...,::-1])"
   ]
  },
  {
   "cell_type": "code",
   "execution_count": 117,
   "metadata": {},
   "outputs": [
    {
     "data": {
      "text/plain": [
       "<matplotlib.image.AxesImage at 0x1a718b12c20>"
      ]
     },
     "execution_count": 117,
     "metadata": {},
     "output_type": "execute_result"
    }
   ],
   "source": [
    "plt.figure()\n",
    "cv2.line(image_resize_mid, eyelid_l_mid[2], eyelid_l_mid[5], color=(255, 0, 0), thickness=1)\n",
    "cv2.line(image_resize_mid, eyelid_l_mid[0], eyelid_l_mid[4], color=(255, 0, 0), thickness=1)\n",
    "cv2.line(image_resize_mid, eyelid_l_mid[1], eyelid_l_mid[3], color=(255, 0, 0), thickness=1)\n",
    "plt.imshow(points_eyelid_mid[...,::-1])"
   ]
  },
  {
   "cell_type": "code",
   "execution_count": 118,
   "metadata": {},
   "outputs": [],
   "source": [
    "plt.figure()\n",
    "cv2.line(image_resize_bottom, eyelid_l_bottom[2], eyelid_l_bottom[5], color=(255, 0, 0), thickness=1)\n",
    "cv2.line(image_resize_bottom, eyelid_l_bottom[0], eyelid_l_bottom[4], color=(255, 0, 0), thickness=1)\n",
    "cv2.line(image_resize_bottom, eyelid_l_bottom[1], eyelid_l_bottom[3], color=(255, 0, 0), thickness=1)\n",
    "plt.imshow(points_eyelid_bottom[...,::-1]) \n",
    "plt.show()\n",
    "# open new window"
   ]
  },
  {
   "cell_type": "code",
   "execution_count": 119,
   "metadata": {},
   "outputs": [
    {
     "data": {
      "text/plain": [
       "array([188, 263])"
      ]
     },
     "execution_count": 119,
     "metadata": {},
     "output_type": "execute_result"
    }
   ],
   "source": [
    "eyelid_l_bottom[0]"
   ]
  },
  {
   "cell_type": "code",
   "execution_count": 120,
   "metadata": {},
   "outputs": [
    {
     "name": "stdout",
     "output_type": "stream",
     "text": [
      "7.211102550927978\n"
     ]
    }
   ],
   "source": [
    "print(distance_entre_points(eyelid_l_bottom, 2, 5))"
   ]
  },
  {
   "cell_type": "code",
   "execution_count": 121,
   "metadata": {},
   "outputs": [
    {
     "name": "stdout",
     "output_type": "stream",
     "text": [
      "6.708203932499369\n"
     ]
    }
   ],
   "source": [
    "print(distance_entre_points(eyelid_l_mid, 2, 5))"
   ]
  },
  {
   "cell_type": "code",
   "execution_count": 122,
   "metadata": {},
   "outputs": [
    {
     "name": "stdout",
     "output_type": "stream",
     "text": [
      "6.4031242374328485\n"
     ]
    }
   ],
   "source": [
    "print(distance_entre_points(eyelid_l_top, 2, 5))"
   ]
  },
  {
   "cell_type": "code",
   "execution_count": 123,
   "metadata": {},
   "outputs": [
    {
     "name": "stdout",
     "output_type": "stream",
     "text": [
      "7.280109889280518\n"
     ]
    }
   ],
   "source": [
    "print(distance_entre_points(eyelid_l_bottom, 0, 4))"
   ]
  },
  {
   "cell_type": "code",
   "execution_count": 124,
   "metadata": {},
   "outputs": [
    {
     "name": "stdout",
     "output_type": "stream",
     "text": [
      "6.324555320336759\n"
     ]
    }
   ],
   "source": [
    "print(distance_entre_points(eyelid_l_mid, 0, 4))"
   ]
  },
  {
   "cell_type": "code",
   "execution_count": 125,
   "metadata": {},
   "outputs": [
    {
     "name": "stdout",
     "output_type": "stream",
     "text": [
      "6.324555320336759\n"
     ]
    }
   ],
   "source": [
    "print(distance_entre_points(eyelid_l_top, 0, 4))"
   ]
  },
  {
   "cell_type": "code",
   "execution_count": 126,
   "metadata": {},
   "outputs": [
    {
     "name": "stdout",
     "output_type": "stream",
     "text": [
      "6.0\n"
     ]
    }
   ],
   "source": [
    "print(distance_entre_points(eyelid_l_bottom, 1, 3))"
   ]
  },
  {
   "cell_type": "code",
   "execution_count": 127,
   "metadata": {},
   "outputs": [
    {
     "name": "stdout",
     "output_type": "stream",
     "text": [
      "5.0\n"
     ]
    }
   ],
   "source": [
    "print(distance_entre_points(eyelid_l_mid, 1, 3))"
   ]
  },
  {
   "cell_type": "code",
   "execution_count": 128,
   "metadata": {},
   "outputs": [
    {
     "name": "stdout",
     "output_type": "stream",
     "text": [
      "4.0\n"
     ]
    }
   ],
   "source": [
    "print(distance_entre_points(eyelid_l_top, 1, 3))"
   ]
  },
  {
   "cell_type": "code",
   "execution_count": 129,
   "metadata": {},
   "outputs": [
    {
     "name": "stdout",
     "output_type": "stream",
     "text": [
      "6.830404146736165\n",
      "6.0109197509453764\n",
      "5.575893185923203\n"
     ]
    }
   ],
   "source": [
    "pairs_l = [(2, 5), (0, 4), (1, 3)]\n",
    "print(distance_mean(eyelid_l_bottom, pairs_l))\n",
    "print(distance_mean(eyelid_l_mid, pairs_l))\n",
    "print(distance_mean(eyelid_l_top, pairs_l))"
   ]
  },
  {
   "cell_type": "code",
   "execution_count": 130,
   "metadata": {},
   "outputs": [
    {
     "name": "stdout",
     "output_type": "stream",
     "text": [
      "Os olhos se abaixaram, comportamento esperado\n"
     ]
    }
   ],
   "source": [
    "print(eyelid_comparsion(eyelid_l_bottom, eyelid_l_mid, eyelid_l_top, pairs_l))"
   ]
  }
 ],
 "metadata": {
  "kernelspec": {
   "display_name": "space_human",
   "language": "python",
   "name": "python3"
  },
  "language_info": {
   "codemirror_mode": {
    "name": "ipython",
    "version": 3
   },
   "file_extension": ".py",
   "mimetype": "text/x-python",
   "name": "python",
   "nbconvert_exporter": "python",
   "pygments_lexer": "ipython3",
   "version": "3.10.12"
  }
 },
 "nbformat": 4,
 "nbformat_minor": 2
}
