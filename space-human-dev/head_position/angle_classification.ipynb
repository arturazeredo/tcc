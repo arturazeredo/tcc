{
 "cells": [
  {
   "cell_type": "code",
   "execution_count": 1,
   "metadata": {},
   "outputs": [
    {
     "name": "stdout",
     "output_type": "stream",
     "text": [
      "Looking in indexes: https://pypi.org/simple, https://pypi.ngc.nvidia.com\n",
      "Requirement already satisfied: PyQt5 in c:\\users\\artur\\.conda\\envs\\space_human\\lib\\site-packages (5.15.11)\n",
      "Requirement already satisfied: PyQt5-sip<13,>=12.15 in c:\\users\\artur\\.conda\\envs\\space_human\\lib\\site-packages (from PyQt5) (12.15.0)\n",
      "Requirement already satisfied: PyQt5-Qt5<5.16.0,>=5.15.2 in c:\\users\\artur\\.conda\\envs\\space_human\\lib\\site-packages (from PyQt5) (5.15.2)\n"
     ]
    }
   ],
   "source": [
    "!pip install PyQt5"
   ]
  },
  {
   "cell_type": "code",
   "execution_count": 2,
   "metadata": {},
   "outputs": [],
   "source": [
    "from src.mediapipe import GooMedia\n",
    "import cv2\n",
    "import numpy as np\n",
    "from src.visualize import *\n",
    "import matplotlib.pyplot as plt\n",
    "import matplotlib.image as mpimg\n",
    "from src.utils import image_resize\n",
    "from PIL import Image"
   ]
  },
  {
   "cell_type": "code",
   "execution_count": 3,
   "metadata": {},
   "outputs": [],
   "source": [
    "from src.mediapipe import GooMedia\n",
    "import cv2\n",
    "import numpy as np\n",
    "from src.visualize import *\n",
    "import matplotlib.pyplot as plt\n",
    "import matplotlib.image as mpimg\n",
    "from src.utils import image_resize\n",
    "from PIL import Image"
   ]
  },
  {
   "cell_type": "code",
   "execution_count": 4,
   "metadata": {},
   "outputs": [],
   "source": [
    "%matplotlib qt"
   ]
  },
  {
   "cell_type": "code",
   "execution_count": 5,
   "metadata": {},
   "outputs": [],
   "source": [
    "pface = GooMedia(1080) # Extrator dos pontos"
   ]
  },
  {
   "cell_type": "code",
   "execution_count": 6,
   "metadata": {},
   "outputs": [],
   "source": [
    "image = cv2.imread(r\"images\\inputs\\36pointscamera\\36points_x92_y25.jpg\")"
   ]
  },
  {
   "cell_type": "code",
   "execution_count": 7,
   "metadata": {},
   "outputs": [],
   "source": [
    "# Resize image\n",
    "image_r = cv2.resize(image, (480, 640)) "
   ]
  },
  {
   "cell_type": "code",
   "execution_count": 8,
   "metadata": {},
   "outputs": [
    {
     "name": "stderr",
     "output_type": "stream",
     "text": [
      "c:\\Users\\artur\\.conda\\envs\\space_human\\lib\\site-packages\\google\\protobuf\\symbol_database.py:55: UserWarning: SymbolDatabase.GetPrototype() is deprecated. Please use message_factory.GetMessageClass() instead. SymbolDatabase.GetPrototype() will be removed soon.\n",
      "  warnings.warn('SymbolDatabase.GetPrototype() is deprecated. Please '\n"
     ]
    }
   ],
   "source": [
    "image_resize , landmask = pface.extract(image_r)"
   ]
  },
  {
   "cell_type": "code",
   "execution_count": 9,
   "metadata": {},
   "outputs": [],
   "source": [
    "points = pface.points_normalize(landmask, image_r.shape)\n"
   ]
  },
  {
   "cell_type": "code",
   "execution_count": 10,
   "metadata": {},
   "outputs": [
    {
     "name": "stdout",
     "output_type": "stream",
     "text": [
      "[(262, 374), (259, 341), (260, 349), (251, 303), (259, 329), (259, 314), (258, 277), (190, 275), (258, 253), (258, 239), (257, 183), (262, 378), (262, 382), (262, 384), (262, 384), (262, 388), (262, 392), (262, 397), (261, 407), (260, 346), (250, 345), (156, 233), (220, 282), (210, 284), (200, 284), (187, 278), (228, 279), (199, 254), (211, 255), (189, 257), (183, 261), (181, 284), (226, 427), (186, 272), (153, 279), (170, 276), (213, 328), (251, 372), (253, 382), (241, 376), (234, 380), (244, 382), (238, 383), (220, 393), (251, 340), (250, 329), (168, 253), (231, 300), (229, 335), (228, 329), (185, 327), (250, 315), (187, 243), (175, 246), (163, 215), (233, 248), (223, 258), (212, 385), (166, 377), (236, 341), (244, 344), (227, 387), (229, 386), (169, 239), (229, 339), (206, 242), (203, 234), (200, 190), (170, 227), (207, 212), (163, 247), (161, 241), (252, 378), (242, 379), (236, 382), (238, 343), (228, 386), (232, 388), (230, 386), (240, 339), (239, 385), (246, 384), (253, 384), (249, 407), (252, 397), (252, 392), (253, 388), (253, 384), (239, 385), (238, 387), (236, 389), (235, 392), (222, 367), (155, 325), (260, 347), (235, 385), (233, 386), (247, 348), (232, 345), (245, 346), (221, 306), (206, 314), (227, 333), (177, 200), (184, 216), (183, 234), (228, 398), (228, 235), (230, 210), (226, 185), (192, 282), (172, 291), (233, 276), (175, 265), (237, 293), (234, 332), (161, 300), (179, 299), (191, 304), (209, 302), (222, 296), (232, 291), (249, 279), (164, 322), (168, 263), (254, 345), (232, 311), (151, 277), (239, 286), (227, 334), (183, 272), (234, 325), (159, 351), (233, 272), (242, 319), (185, 404), (186, 416), (156, 324), (174, 389), (157, 258), (224, 438), (255, 347), (224, 319), (164, 277), (200, 278), (209, 278), (230, 389), (166, 344), (241, 452), (212, 440), (199, 430), (257, 210), (262, 453), (217, 277), (225, 274), (230, 273), (163, 260), (222, 266), (213, 263), (203, 263), (195, 266), (190, 268), (152, 253), (194, 277), (260, 357), (230, 361), (236, 340), (247, 358), (258, 264), (197, 418), (210, 429), (241, 444), (176, 399), (229, 270), (243, 297), (262, 445), (225, 447), (160, 348), (246, 384), (244, 387), (243, 390), (243, 395), (237, 404), (233, 385), (231, 384), (229, 383), (215, 375), (179, 349), (243, 285), (238, 265), (233, 266), (235, 385), (178, 375), (245, 265), (232, 415), (259, 301), (250, 291), (259, 289), (237, 314), (261, 433), (261, 419), (246, 419), (209, 398), (219, 342), (220, 408), (198, 340), (211, 353), (191, 358), (243, 433), (232, 320), (200, 406), (213, 417), (201, 386), (169, 362), (189, 387), (165, 369), (204, 367), (238, 304), (237, 337), (232, 339), (241, 331), (228, 256), (209, 251), (194, 251), (183, 253), (176, 258), (177, 274), (153, 301), (186, 289), (196, 292), (209, 292), (221, 288), (231, 284), (237, 281), (153, 301), (232, 341), (243, 307), (244, 338), (249, 343), (244, 340), (235, 344), (251, 344), (252, 346), (236, 273), (241, 276), (243, 278), (188, 270), (180, 266), (267, 302), (328, 271), (270, 344), (360, 227), (301, 281), (310, 281), (320, 281), (332, 275), (293, 278), (317, 252), (305, 252), (327, 254), (333, 258), (339, 281), (297, 425), (332, 268), (366, 273), (350, 273), (307, 325), (273, 372), (271, 381), (283, 375), (290, 378), (280, 381), (286, 382), (302, 391), (268, 340), (269, 329), (347, 250), (287, 298), (291, 334), (291, 327), (335, 323), (268, 315), (325, 239), (338, 243), (351, 209), (280, 248), (295, 257), (310, 383), (360, 373), (284, 340), (276, 343), (297, 384), (295, 384), (343, 236), (291, 338), (306, 240), (308, 232), (313, 187), (345, 222), (308, 209), (352, 244), (355, 236), (272, 377), (281, 378), (288, 380), (282, 342), (296, 384), (292, 385), (294, 384), (279, 338), (284, 383), (278, 383), (271, 383), (272, 407), (273, 397), (272, 391), (271, 387), (270, 383), (284, 383), (286, 385), (287, 387), (289, 390), (299, 365), (368, 319), (289, 383), (290, 384), (273, 348), (288, 344), (274, 346), (297, 304), (313, 311), (293, 332), (337, 195), (330, 212), (328, 231), (294, 397), (283, 234), (284, 209), (287, 183), (328, 279), (349, 288), (288, 276), (342, 262), (281, 292), (285, 331), (359, 295), (343, 296), (331, 300), (313, 299), (299, 295), (289, 290), (268, 279), (357, 318), (349, 260), (265, 345), (287, 310), (368, 271), (282, 285), (293, 332), (336, 269), (285, 323), (366, 345), (288, 272), (276, 318), (340, 400), (341, 412), (367, 319), (351, 385), (361, 253), (300, 436), (264, 347), (296, 317), (358, 274), (319, 275), (311, 276), (293, 387), (356, 339), (283, 451), (314, 437), (327, 427), (303, 275), (295, 273), (291, 273), (355, 257), (297, 264), (306, 261), (314, 260), (323, 262), (327, 265), (365, 247), (325, 273), (290, 360), (284, 339), (273, 357), (327, 415), (315, 426), (283, 443), (351, 395), (291, 269), (274, 296), (299, 445), (364, 343), (278, 383), (279, 386), (281, 389), (282, 394), (284, 403), (291, 382), (293, 382), (294, 381), (306, 373), (343, 345), (274, 285), (281, 265), (287, 266), (289, 383), (345, 370), (272, 265), (291, 413), (268, 291), (281, 313), (276, 419), (313, 395), (301, 340), (303, 406), (322, 337), (309, 350), (330, 354), (280, 432), (287, 319), (323, 403), (310, 415), (321, 383), (354, 357), (334, 383), (360, 364), (317, 364), (280, 303), (282, 336), (288, 338), (277, 330), (289, 255), (305, 248), (320, 248), (331, 250), (339, 254), (342, 271), (368, 296), (334, 286), (325, 289), (312, 289), (300, 287), (291, 284), (284, 281), (369, 295), (288, 340), (275, 307), (275, 338), (270, 343), (275, 339), (285, 343), (268, 344), (267, 346), (285, 273), (279, 275), (276, 278), (330, 267), (337, 262), (208, 269), (218, 268), (207, 260), (197, 270), (208, 278), (309, 266), (319, 266), (309, 257), (299, 266), (309, 275)]\n"
     ]
    }
   ],
   "source": [
    "print(points)"
   ]
  },
  {
   "cell_type": "code",
   "execution_count": 11,
   "metadata": {},
   "outputs": [],
   "source": [
    "points_face = draw_face_one_color(image_resize, points)"
   ]
  },
  {
   "cell_type": "code",
   "execution_count": 12,
   "metadata": {},
   "outputs": [],
   "source": [
    "plt.figure()\n",
    "plt.imshow(points_face[...,::-1]) \n",
    "plt.show()\n",
    "# open new window"
   ]
  },
  {
   "cell_type": "code",
   "execution_count": 13,
   "metadata": {},
   "outputs": [
    {
     "data": {
      "text/plain": [
       "478"
      ]
     },
     "execution_count": 13,
     "metadata": {},
     "output_type": "execute_result"
    }
   ],
   "source": [
    "len(points)"
   ]
  },
  {
   "cell_type": "code",
   "execution_count": 14,
   "metadata": {},
   "outputs": [
    {
     "name": "stdout",
     "output_type": "stream",
     "text": [
      "Max y: 453\n",
      "Min y: 183\n",
      "Max x: 369\n",
      "Min x: 151\n"
     ]
    }
   ],
   "source": [
    "# Find the highest and lowest y values\n",
    "max_y = max(point[1] for point in points)\n",
    "min_y = min(point[1] for point in points)\n",
    "\n",
    "# Find the highest and lowest x values\n",
    "max_x = max(point[0] for point in points)\n",
    "min_x = min(point[0] for point in points)\n",
    "\n",
    "# Print the values\n",
    "print(\"Max y:\", max_y)\n",
    "print(\"Min y:\", min_y)\n",
    "print(\"Max x:\", max_x)\n",
    "print(\"Min x:\", min_x)"
   ]
  },
  {
   "cell_type": "code",
   "execution_count": 15,
   "metadata": {},
   "outputs": [],
   "source": [
    "# Draw a bounding box on the points_face image\n",
    "cv2.rectangle(points_face, (min_x, min_y), (max_x, max_y), (0, 255, 0), 2)\n",
    "\n",
    "# Display the image with the bounding box\n",
    "plt.figure()\n",
    "plt.imshow(points_face[...,::-1]) \n",
    "plt.show()\n",
    "# open new window"
   ]
  },
  {
   "cell_type": "code",
   "execution_count": 16,
   "metadata": {},
   "outputs": [],
   "source": [
    "# Calculate the midpoint of the x-coordinates\n",
    "mid_x = (max_x + min_x) // 2\n",
    "\n",
    "# Draw a bounding box on the points_face image\n",
    "cv2.rectangle(points_face, (min_x, min_y), (max_x, max_y), (0, 255, 0), 2)\n",
    "\n",
    "# Draw a vertical line at the midpoint of the x-coordinates\n",
    "cv2.line(points_face, (mid_x, min_y), (mid_x, max_y), (0, 0, 255), 2)\n",
    "\n",
    "# Display the image with the bounding box and the vertical line\n",
    "plt.figure()\n",
    "plt.imshow(points_face[...,::-1]) \n",
    "plt.show()\n",
    "# open new window"
   ]
  },
  {
   "cell_type": "code",
   "execution_count": 17,
   "metadata": {},
   "outputs": [
    {
     "name": "stdout",
     "output_type": "stream",
     "text": [
      "Left Hemisphere Count: 236\n",
      "Right Hemisphere Count: 242\n"
     ]
    }
   ],
   "source": [
    "# Initialize counters for the left and right hemispheres\n",
    "left_hemisphere_count = 0\n",
    "right_hemisphere_count = 0\n",
    "\n",
    "# Iterate over the points and count the pair points in each hemisphere\n",
    "for point in points:\n",
    "    if point[0] < mid_x:\n",
    "        left_hemisphere_count += 1\n",
    "    else:\n",
    "        right_hemisphere_count += 1\n",
    "\n",
    "# Print the counts\n",
    "print(\"Left Hemisphere Count:\", left_hemisphere_count)\n",
    "print(\"Right Hemisphere Count:\", right_hemisphere_count)"
   ]
  },
  {
   "cell_type": "code",
   "execution_count": 18,
   "metadata": {},
   "outputs": [],
   "source": [
    "# Create a new image with the same size as the original image\n",
    "landmask_image = np.zeros_like(points_face)\n",
    "\n",
    "# Draw the landmask points on the new image\n",
    "for point in points:\n",
    "    x_px, y_px = point\n",
    "    landmask_image[y_px, x_px] = 255\n",
    "\n",
    "# Draw a bounding box on the points_face image\n",
    "cv2.rectangle(landmask_image, (min_x, min_y), (max_x, max_y), (0, 255, 0), 2)\n",
    "\n",
    "# Draw a vertical line at the midpoint of the x-coordinates\n",
    "cv2.line(landmask_image, (mid_x, min_y), (mid_x, max_y), (0, 0, 255), 2)\n",
    "\n",
    "# Invert the background color and the landmask color\n",
    "landmask_image = 255 - landmask_image\n",
    "\n",
    "# Display the landmask image\n",
    "plt.figure()\n",
    "plt.imshow(landmask_image[...,::-1] , cmap='gray')\n",
    "plt.xlim(min_x+1, max_x+1)\n",
    "plt.ylim(max_y+1, min_y+1)\n",
    "plt.show()"
   ]
  },
  {
   "cell_type": "code",
   "execution_count": 19,
   "metadata": {},
   "outputs": [],
   "source": [
    "# Create a new image with the same size as the original image\n",
    "landmask_image = np.zeros_like(points_face)\n",
    "\n",
    "# Draw the landmask points on the new image\n",
    "for i, point in enumerate(points):\n",
    "    x_px, y_px = point\n",
    "    landmask_image[y_px, x_px] = 255\n",
    "    plt.text(x_px, y_px, str(i+1), color='red', fontsize=5)\n",
    "\n",
    "# Invert the background color and the landmask color\n",
    "landmask_image = 255 - landmask_image\n",
    "\n",
    "# Display the landmask image\n",
    "plt.figure()\n",
    "plt.imshow(landmask_image, cmap='gray')\n",
    "plt.xlim(min_x, max_x)\n",
    "plt.ylim(max_y, min_y)\n",
    "plt.show()"
   ]
  },
  {
   "cell_type": "markdown",
   "metadata": {},
   "source": [
    "# Estimar inclinação"
   ]
  },
  {
   "cell_type": "code",
   "execution_count": 20,
   "metadata": {},
   "outputs": [],
   "source": [
    "cv2.destroyAllWindows()\n",
    "# Calculate the area of the rectangle\n",
    "area = (max_x - min_x) * (max_y - min_y)\n",
    "\n",
    "# Draw the rectangle\n",
    "cv2.rectangle(points_face, (min_x, min_y), (max_x, max_y), (0, 255, 0), 2)\n",
    "\n",
    "# Draw the area of the rectangle on the image\n",
    "cv2.putText(points_face, \"Area: {}\".format(area), (min_x, min_y - 10), cv2.FONT_HERSHEY_SIMPLEX, 0.5, (255, 255, 255), 1)\n",
    "\n",
    "# Display the image\n",
    "plt.figure()\n",
    "plt.imshow(points_face[...,::-1]) \n",
    "plt.show()"
   ]
  },
  {
   "cell_type": "code",
   "execution_count": 21,
   "metadata": {},
   "outputs": [
    {
     "name": "stdout",
     "output_type": "stream",
     "text": [
      "Points Density: 0.008120965001698947\n",
      "Left Hemisphere Density: 0.00801902820251444\n",
      "Right Hemisphere Density: 0.008222901800883453\n"
     ]
    }
   ],
   "source": [
    "# Estimate a points \"density\" according to bounding box area\n",
    "\n",
    "points_density = len(points) / area # total density\n",
    "\n",
    "# Estimate the density of the left and right hemispheres\n",
    "left_hemisphere_density = left_hemisphere_count / (area/2)\n",
    "right_hemisphere_density = right_hemisphere_count / (area/2)\n",
    "\n",
    "# show values\n",
    "print(\"Points Density:\", points_density)\n",
    "print(\"Left Hemisphere Density:\", left_hemisphere_density)\n",
    "print(\"Right Hemisphere Density:\", right_hemisphere_density)\n",
    "\n"
   ]
  },
  {
   "cell_type": "code",
   "execution_count": 22,
   "metadata": {},
   "outputs": [
    {
     "name": "stdout",
     "output_type": "stream",
     "text": [
      "The face is more likely to be on the right hemisphere.\n"
     ]
    }
   ],
   "source": [
    "if left_hemisphere_density > right_hemisphere_density:\n",
    "    print(\"The face is more likely to be on the left hemisphere.\")\n",
    "else:\n",
    "    print(\"The face is more likely to be on the right hemisphere.\")"
   ]
  },
  {
   "cell_type": "code",
   "execution_count": 23,
   "metadata": {},
   "outputs": [
    {
     "name": "stdout",
     "output_type": "stream",
     "text": [
      "0.9874476987447697\n",
      "1.01255230125523\n"
     ]
    }
   ],
   "source": [
    "right_hemisphere_ratio = right_hemisphere_density / points_density\n",
    "left_hemisphere_ratio = left_hemisphere_density / points_density\n",
    "\n",
    "print(left_hemisphere_ratio)\n",
    "print(right_hemisphere_ratio)"
   ]
  },
  {
   "cell_type": "code",
   "execution_count": 24,
   "metadata": {},
   "outputs": [],
   "source": [
    "# Parameters\n",
    "\n",
    "under_limit_centralized = 0.9\n",
    "upper_limit_centralized = 1.1\n",
    "under_limit_angled = 0.9\n",
    "upper_limit_angled = 1.5"
   ]
  },
  {
   "cell_type": "code",
   "execution_count": 25,
   "metadata": {},
   "outputs": [],
   "source": [
    "def angle(left_hemisphere_ratio, right_hemisphere_ratio):\n",
    "    if left_hemisphere_ratio <= upper_limit_centralized and left_hemisphere_ratio >= under_limit_centralized and right_hemisphere_ratio <= upper_limit_centralized and right_hemisphere_ratio >= under_limit_centralized:\n",
    "        message = ('The face is centralized')\n",
    "    if left_hemisphere_ratio > upper_limit_centralized and left_hemisphere_ratio < upper_limit_angled:\n",
    "        message = ('The face is a little bit more on the left hemisphere.')\n",
    "    if right_hemisphere_ratio > upper_limit_centralized and right_hemisphere_ratio < upper_limit_angled:\n",
    "        message = ('The face is a little bit more on the right hemisphere.')\n",
    "    if left_hemisphere_ratio >= upper_limit_angled:\n",
    "        message = ('The face is more angled on the left hemisphere.')\n",
    "    if right_hemisphere_ratio >= upper_limit_angled:\n",
    "        message = ('The face is more angled on the right hemisphere.')\n",
    "\n",
    "    return message "
   ]
  },
  {
   "cell_type": "code",
   "execution_count": 26,
   "metadata": {},
   "outputs": [
    {
     "name": "stdout",
     "output_type": "stream",
     "text": [
      "The face is centralized\n"
     ]
    }
   ],
   "source": [
    "check_angle = angle(left_hemisphere_ratio, right_hemisphere_ratio)\n",
    "print(check_angle)"
   ]
  },
  {
   "cell_type": "code",
   "execution_count": 28,
   "metadata": {},
   "outputs": [],
   "source": [
    "# Display the image\n",
    "plt.clf()\n",
    "plt.close('all')\n",
    "plt.figure()\n",
    "plt.imshow(points_face[...,::-1])\n",
    "plt.text(min_x-100, min_y - 10, \"Message: {}\".format(check_angle),color='red',ha='left', wrap=True)\n",
    "plt.show()"
   ]
  },
  {
   "cell_type": "markdown",
   "metadata": {},
   "source": [
    "# Salvar Figura"
   ]
  },
  {
   "cell_type": "code",
   "execution_count": null,
   "metadata": {},
   "outputs": [],
   "source": [
    "import datetime\n",
    "\n",
    "# Get the current timestamp\n",
    "timestamp = datetime.datetime.now().strftime(\"%Y%m%d_%H%M%S\")\n",
    "\n",
    "# Use the timestamp in the filename\n",
    "plt.savefig(r'images\\outputs\\img_w_message_{}.png'.format(timestamp), dpi=300)"
   ]
  },
  {
   "cell_type": "code",
   "execution_count": 29,
   "metadata": {},
   "outputs": [],
   "source": [
    "%matplotlib qt"
   ]
  },
  {
   "cell_type": "code",
   "execution_count": 30,
   "metadata": {},
   "outputs": [],
   "source": [
    "pface = GooMedia(1080) # Extrator dos pontos"
   ]
  },
  {
   "cell_type": "code",
   "execution_count": 31,
   "metadata": {},
   "outputs": [],
   "source": [
    "image = cv2.imread(r\"images\\inputs\\36pointscamera\\36points_x92_y25.jpg\")"
   ]
  },
  {
   "cell_type": "code",
   "execution_count": 32,
   "metadata": {},
   "outputs": [],
   "source": [
    "# Resize image\n",
    "image_r = cv2.resize(image, (480, 640)) "
   ]
  },
  {
   "cell_type": "code",
   "execution_count": 33,
   "metadata": {},
   "outputs": [],
   "source": [
    "image_resize , landmask = pface.extract(image_r)"
   ]
  },
  {
   "cell_type": "code",
   "execution_count": 34,
   "metadata": {},
   "outputs": [],
   "source": [
    "points = pface.points_normalize(landmask, image_r.shape)\n"
   ]
  },
  {
   "cell_type": "code",
   "execution_count": 35,
   "metadata": {},
   "outputs": [
    {
     "name": "stdout",
     "output_type": "stream",
     "text": [
      "[(262, 374), (259, 341), (260, 349), (251, 303), (259, 329), (259, 314), (258, 277), (190, 275), (258, 253), (258, 239), (257, 183), (262, 378), (262, 382), (262, 384), (262, 384), (262, 388), (262, 392), (262, 397), (261, 407), (260, 346), (250, 345), (156, 233), (220, 282), (210, 284), (200, 284), (187, 278), (228, 279), (199, 254), (211, 255), (189, 257), (183, 261), (181, 284), (226, 427), (186, 272), (153, 279), (170, 276), (213, 328), (251, 372), (253, 382), (241, 376), (234, 380), (244, 382), (238, 383), (220, 393), (251, 340), (250, 329), (168, 253), (231, 300), (229, 335), (228, 329), (185, 327), (250, 315), (187, 243), (175, 246), (163, 215), (233, 248), (223, 258), (212, 385), (166, 377), (236, 341), (244, 344), (227, 387), (229, 386), (169, 239), (229, 339), (206, 242), (203, 234), (200, 190), (170, 227), (207, 212), (163, 247), (161, 241), (252, 378), (242, 379), (236, 382), (238, 343), (228, 386), (232, 388), (230, 386), (240, 339), (239, 385), (246, 384), (253, 384), (249, 407), (252, 397), (252, 392), (253, 388), (253, 384), (239, 385), (238, 387), (236, 389), (235, 392), (222, 367), (155, 325), (260, 347), (235, 385), (233, 386), (247, 348), (232, 345), (245, 346), (221, 306), (206, 314), (227, 333), (177, 200), (184, 216), (183, 234), (228, 398), (228, 235), (230, 210), (226, 185), (192, 282), (172, 291), (233, 276), (175, 265), (237, 293), (234, 332), (161, 300), (179, 299), (191, 304), (209, 302), (222, 296), (232, 291), (249, 279), (164, 322), (168, 263), (254, 345), (232, 311), (151, 277), (239, 286), (227, 334), (183, 272), (234, 325), (159, 351), (233, 272), (242, 319), (185, 404), (186, 416), (156, 324), (174, 389), (157, 258), (224, 438), (255, 347), (224, 319), (164, 277), (200, 278), (209, 278), (230, 389), (166, 344), (241, 452), (212, 440), (199, 430), (257, 210), (262, 453), (217, 277), (225, 274), (230, 273), (163, 260), (222, 266), (213, 263), (203, 263), (195, 266), (190, 268), (152, 253), (194, 277), (260, 357), (230, 361), (236, 340), (247, 358), (258, 264), (197, 418), (210, 429), (241, 444), (176, 399), (229, 270), (243, 297), (262, 445), (225, 447), (160, 348), (246, 384), (244, 387), (243, 390), (243, 395), (237, 404), (233, 385), (231, 384), (229, 383), (215, 375), (179, 349), (243, 285), (238, 265), (233, 266), (235, 385), (178, 375), (245, 265), (232, 415), (259, 301), (250, 291), (259, 289), (237, 314), (261, 433), (261, 419), (246, 419), (209, 398), (219, 342), (220, 408), (198, 340), (211, 353), (191, 358), (243, 433), (232, 320), (200, 406), (213, 417), (201, 386), (169, 362), (189, 387), (165, 369), (204, 367), (238, 304), (237, 337), (232, 339), (241, 331), (228, 256), (209, 251), (194, 251), (183, 253), (176, 258), (177, 274), (153, 301), (186, 289), (196, 292), (209, 292), (221, 288), (231, 284), (237, 281), (153, 301), (232, 341), (243, 307), (244, 338), (249, 343), (244, 340), (235, 344), (251, 344), (252, 346), (236, 273), (241, 276), (243, 278), (188, 270), (180, 266), (267, 302), (328, 271), (270, 344), (360, 227), (301, 281), (310, 281), (320, 281), (332, 275), (293, 278), (317, 252), (305, 252), (327, 254), (333, 258), (339, 281), (297, 425), (332, 268), (366, 273), (350, 273), (307, 325), (273, 372), (271, 381), (283, 375), (290, 378), (280, 381), (286, 382), (302, 391), (268, 340), (269, 329), (347, 250), (287, 298), (291, 334), (291, 327), (335, 323), (268, 315), (325, 239), (338, 243), (351, 209), (280, 248), (295, 257), (310, 383), (360, 373), (284, 340), (276, 343), (297, 384), (295, 384), (343, 236), (291, 338), (306, 240), (308, 232), (313, 187), (345, 222), (308, 209), (352, 244), (355, 236), (272, 377), (281, 378), (288, 380), (282, 342), (296, 384), (292, 385), (294, 384), (279, 338), (284, 383), (278, 383), (271, 383), (272, 407), (273, 397), (272, 391), (271, 387), (270, 383), (284, 383), (286, 385), (287, 387), (289, 390), (299, 365), (368, 319), (289, 383), (290, 384), (273, 348), (288, 344), (274, 346), (297, 304), (313, 311), (293, 332), (337, 195), (330, 212), (328, 231), (294, 397), (283, 234), (284, 209), (287, 183), (328, 279), (349, 288), (288, 276), (342, 262), (281, 292), (285, 331), (359, 295), (343, 296), (331, 300), (313, 299), (299, 295), (289, 290), (268, 279), (357, 318), (349, 260), (265, 345), (287, 310), (368, 271), (282, 285), (293, 332), (336, 269), (285, 323), (366, 345), (288, 272), (276, 318), (340, 400), (341, 412), (367, 319), (351, 385), (361, 253), (300, 436), (264, 347), (296, 317), (358, 274), (319, 275), (311, 276), (293, 387), (356, 339), (283, 451), (314, 437), (327, 427), (303, 275), (295, 273), (291, 273), (355, 257), (297, 264), (306, 261), (314, 260), (323, 262), (327, 265), (365, 247), (325, 273), (290, 360), (284, 339), (273, 357), (327, 415), (315, 426), (283, 443), (351, 395), (291, 269), (274, 296), (299, 445), (364, 343), (278, 383), (279, 386), (281, 389), (282, 394), (284, 403), (291, 382), (293, 382), (294, 381), (306, 373), (343, 345), (274, 285), (281, 265), (287, 266), (289, 383), (345, 370), (272, 265), (291, 413), (268, 291), (281, 313), (276, 419), (313, 395), (301, 340), (303, 406), (322, 337), (309, 350), (330, 354), (280, 432), (287, 319), (323, 403), (310, 415), (321, 383), (354, 357), (334, 383), (360, 364), (317, 364), (280, 303), (282, 336), (288, 338), (277, 330), (289, 255), (305, 248), (320, 248), (331, 250), (339, 254), (342, 271), (368, 296), (334, 286), (325, 289), (312, 289), (300, 287), (291, 284), (284, 281), (369, 295), (288, 340), (275, 307), (275, 338), (270, 343), (275, 339), (285, 343), (268, 344), (267, 346), (285, 273), (279, 275), (276, 278), (330, 267), (337, 262), (208, 269), (218, 268), (207, 260), (197, 270), (208, 278), (309, 266), (319, 266), (309, 257), (299, 266), (309, 275)]\n"
     ]
    }
   ],
   "source": [
    "print(points)"
   ]
  },
  {
   "cell_type": "code",
   "execution_count": 36,
   "metadata": {},
   "outputs": [],
   "source": [
    "points_face = draw_face_one_color(image_resize, points)"
   ]
  },
  {
   "cell_type": "code",
   "execution_count": 37,
   "metadata": {},
   "outputs": [],
   "source": [
    "plt.figure()\n",
    "plt.imshow(points_face[...,::-1]) \n",
    "plt.show()\n",
    "# open new window\n"
   ]
  },
  {
   "cell_type": "code",
   "execution_count": 38,
   "metadata": {},
   "outputs": [
    {
     "data": {
      "text/plain": [
       "478"
      ]
     },
     "execution_count": 38,
     "metadata": {},
     "output_type": "execute_result"
    }
   ],
   "source": [
    "len(points)"
   ]
  },
  {
   "cell_type": "code",
   "execution_count": 39,
   "metadata": {},
   "outputs": [
    {
     "name": "stdout",
     "output_type": "stream",
     "text": [
      "Max y: 453\n",
      "Min y: 183\n",
      "Max x: 369\n",
      "Min x: 151\n"
     ]
    }
   ],
   "source": [
    "# Find the highest and lowest y values\n",
    "max_y = max(point[1] for point in points)\n",
    "min_y = min(point[1] for point in points)\n",
    "\n",
    "# Find the highest and lowest x values\n",
    "max_x = max(point[0] for point in points)\n",
    "min_x = min(point[0] for point in points)\n",
    "\n",
    "# Print the values\n",
    "print(\"Max y:\", max_y)\n",
    "print(\"Min y:\", min_y)\n",
    "print(\"Max x:\", max_x)\n",
    "print(\"Min x:\", min_x)"
   ]
  },
  {
   "cell_type": "code",
   "execution_count": 40,
   "metadata": {},
   "outputs": [],
   "source": [
    "# Draw a bounding box on the points_face image\n",
    "cv2.rectangle(points_face, (min_x, min_y), (max_x, max_y), (0, 255, 0), 2)\n",
    "\n",
    "# Display the image with the bounding box\n",
    "plt.figure()\n",
    "plt.imshow(points_face[...,::-1]) \n",
    "plt.show()\n",
    "# open new window"
   ]
  },
  {
   "cell_type": "code",
   "execution_count": 41,
   "metadata": {},
   "outputs": [],
   "source": [
    "# Calculate the midpoint of the x-coordinates\n",
    "mid_x = (max_x + min_x) // 2\n",
    "\n",
    "# Draw a bounding box on the points_face image\n",
    "cv2.rectangle(points_face, (min_x, min_y), (max_x, max_y), (0, 255, 0), 2)\n",
    "\n",
    "# Draw a vertical line at the midpoint of the x-coordinates\n",
    "cv2.line(points_face, (mid_x, min_y), (mid_x, max_y), (0, 0, 255), 2)\n",
    "\n",
    "# Display the image with the bounding box and the vertical line\n",
    "plt.figure()\n",
    "plt.imshow(points_face[...,::-1]) \n",
    "plt.show()\n",
    "# open new window"
   ]
  },
  {
   "cell_type": "code",
   "execution_count": 42,
   "metadata": {},
   "outputs": [
    {
     "name": "stdout",
     "output_type": "stream",
     "text": [
      "Left Hemisphere Count: 236\n",
      "Right Hemisphere Count: 242\n"
     ]
    }
   ],
   "source": [
    "# Initialize counters for the left and right hemispheres\n",
    "left_hemisphere_count = 0\n",
    "right_hemisphere_count = 0\n",
    "\n",
    "# Iterate over the points and count the pair points in each hemisphere\n",
    "for point in points:\n",
    "    if point[0] < mid_x:\n",
    "        left_hemisphere_count += 1\n",
    "    else:\n",
    "        right_hemisphere_count += 1\n",
    "\n",
    "# Print the counts\n",
    "print(\"Left Hemisphere Count:\", left_hemisphere_count)\n",
    "print(\"Right Hemisphere Count:\", right_hemisphere_count)"
   ]
  },
  {
   "cell_type": "code",
   "execution_count": 43,
   "metadata": {},
   "outputs": [],
   "source": [
    "# Create a new image with the same size as the original image\n",
    "landmask_image = np.zeros_like(points_face)\n",
    "\n",
    "# Draw the landmask points on the new image\n",
    "for point in points:\n",
    "    x_px, y_px = point\n",
    "    landmask_image[y_px, x_px] = 255\n",
    "\n",
    "# Draw a bounding box on the points_face image\n",
    "cv2.rectangle(landmask_image, (min_x, min_y), (max_x, max_y), (0, 255, 0), 2)\n",
    "\n",
    "# Draw a vertical line at the midpoint of the x-coordinates\n",
    "cv2.line(landmask_image, (mid_x, min_y), (mid_x, max_y), (0, 0, 255), 2)\n",
    "\n",
    "# Invert the background color and the landmask color\n",
    "landmask_image = 255 - landmask_image\n",
    "\n",
    "# Display the landmask image\n",
    "plt.figure()\n",
    "plt.imshow(landmask_image[...,::-1] , cmap='gray')\n",
    "plt.xlim(min_x+1, max_x+1)\n",
    "plt.ylim(max_y+1, min_y+1)\n",
    "plt.show()"
   ]
  },
  {
   "cell_type": "code",
   "execution_count": 44,
   "metadata": {},
   "outputs": [],
   "source": [
    "# Create a new image with the same size as the original image\n",
    "landmask_image = np.zeros_like(points_face)\n",
    "\n",
    "# Draw the landmask points on the new image\n",
    "for i, point in enumerate(points):\n",
    "    x_px, y_px = point\n",
    "    landmask_image[y_px, x_px] = 255\n",
    "    plt.text(x_px, y_px, str(i+1), color='red', fontsize=5)\n",
    "\n",
    "# Invert the background color and the landmask color\n",
    "landmask_image = 255 - landmask_image\n",
    "\n",
    "# Display the landmask image\n",
    "plt.figure()\n",
    "plt.imshow(landmask_image, cmap='gray')\n",
    "plt.xlim(min_x, max_x)\n",
    "plt.ylim(max_y, min_y)\n",
    "plt.show()"
   ]
  },
  {
   "cell_type": "markdown",
   "metadata": {},
   "source": [
    "# Estimar inclinação"
   ]
  },
  {
   "cell_type": "code",
   "execution_count": 45,
   "metadata": {},
   "outputs": [],
   "source": [
    "cv2.destroyAllWindows()\n",
    "# Calculate the area of the rectangle\n",
    "area = (max_x - min_x) * (max_y - min_y)\n",
    "\n",
    "# Draw the rectangle\n",
    "cv2.rectangle(points_face, (min_x, min_y), (max_x, max_y), (0, 255, 0), 2)\n",
    "\n",
    "# Draw the area of the rectangle on the image\n",
    "cv2.putText(points_face, \"Area: {}\".format(area), (min_x, min_y - 10), cv2.FONT_HERSHEY_SIMPLEX, 0.5, (255, 255, 255), 1)\n",
    "\n",
    "# Display the image\n",
    "plt.figure()\n",
    "plt.imshow(points_face[...,::-1]) \n",
    "plt.show()"
   ]
  },
  {
   "cell_type": "code",
   "execution_count": 46,
   "metadata": {},
   "outputs": [
    {
     "name": "stdout",
     "output_type": "stream",
     "text": [
      "Points Density: 0.008120965001698947\n",
      "Left Hemisphere Density: 0.00801902820251444\n",
      "Right Hemisphere Density: 0.008222901800883453\n"
     ]
    }
   ],
   "source": [
    "# Estimate a points \"density\" according to bounding box area\n",
    "\n",
    "points_density = len(points) / area # total density\n",
    "\n",
    "# Estimate the density of the left and right hemispheres\n",
    "left_hemisphere_density = left_hemisphere_count / (area/2)\n",
    "right_hemisphere_density = right_hemisphere_count / (area/2)\n",
    "\n",
    "# show values\n",
    "print(\"Points Density:\", points_density)\n",
    "print(\"Left Hemisphere Density:\", left_hemisphere_density)\n",
    "print(\"Right Hemisphere Density:\", right_hemisphere_density)\n",
    "\n"
   ]
  },
  {
   "cell_type": "code",
   "execution_count": 47,
   "metadata": {},
   "outputs": [
    {
     "name": "stdout",
     "output_type": "stream",
     "text": [
      "The face is more likely to be on the right hemisphere.\n"
     ]
    }
   ],
   "source": [
    "if left_hemisphere_density > right_hemisphere_density:\n",
    "    print(\"The face is more likely to be on the left hemisphere.\")\n",
    "else:\n",
    "    print(\"The face is more likely to be on the right hemisphere.\")"
   ]
  },
  {
   "cell_type": "code",
   "execution_count": 48,
   "metadata": {},
   "outputs": [
    {
     "name": "stdout",
     "output_type": "stream",
     "text": [
      "0.9874476987447697\n",
      "1.01255230125523\n"
     ]
    }
   ],
   "source": [
    "right_hemisphere_ratio = right_hemisphere_density / points_density\n",
    "left_hemisphere_ratio = left_hemisphere_density / points_density\n",
    "\n",
    "print(left_hemisphere_ratio)\n",
    "print(right_hemisphere_ratio)"
   ]
  },
  {
   "cell_type": "code",
   "execution_count": 49,
   "metadata": {},
   "outputs": [],
   "source": [
    "# Parameters\n",
    "\n",
    "under_limit_centralized = 0.9\n",
    "upper_limit_centralized = 1.1\n",
    "under_limit_angled = 0.9\n",
    "upper_limit_angled = 1.5"
   ]
  },
  {
   "cell_type": "code",
   "execution_count": 50,
   "metadata": {},
   "outputs": [],
   "source": [
    "def angle(left_hemisphere_ratio, right_hemisphere_ratio):\n",
    "    if left_hemisphere_ratio <= upper_limit_centralized and left_hemisphere_ratio >= under_limit_centralized and right_hemisphere_ratio <= upper_limit_centralized and right_hemisphere_ratio >= under_limit_centralized:\n",
    "        message = ('The face is centralized')\n",
    "    if left_hemisphere_ratio > upper_limit_centralized and left_hemisphere_ratio < upper_limit_angled:\n",
    "        message = ('The face is a little bit more on the left hemisphere.')\n",
    "    if right_hemisphere_ratio > upper_limit_centralized and right_hemisphere_ratio < upper_limit_angled:\n",
    "        message = ('The face is a little bit more on the right hemisphere.')\n",
    "    if left_hemisphere_ratio >= upper_limit_angled:\n",
    "        message = ('The face is more angled on the left hemisphere.')\n",
    "    if right_hemisphere_ratio >= upper_limit_angled:\n",
    "        message = ('The face is more angled on the right hemisphere.')\n",
    "\n",
    "    return message "
   ]
  },
  {
   "cell_type": "code",
   "execution_count": 51,
   "metadata": {},
   "outputs": [
    {
     "name": "stdout",
     "output_type": "stream",
     "text": [
      "The face is centralized\n"
     ]
    }
   ],
   "source": [
    "check_angle = angle(left_hemisphere_ratio, right_hemisphere_ratio)\n",
    "print(check_angle)"
   ]
  },
  {
   "cell_type": "code",
   "execution_count": 52,
   "metadata": {},
   "outputs": [],
   "source": [
    "# Display the image\n",
    "plt.clf()\n",
    "plt.close('all')\n",
    "plt.figure()\n",
    "plt.imshow(points_face[...,::-1])\n",
    "plt.text(min_x-100, min_y - 10, \"Message: {}\".format(check_angle),color='red',ha='left', wrap=True)\n",
    "plt.show()"
   ]
  },
  {
   "cell_type": "markdown",
   "metadata": {},
   "source": [
    "# Salvar Figura"
   ]
  },
  {
   "cell_type": "code",
   "execution_count": 196,
   "metadata": {},
   "outputs": [],
   "source": [
    "import datetime\n",
    "\n",
    "# Get the current timestamp\n",
    "timestamp = datetime.datetime.now().strftime(\"%Y%m%d_%H%M%S\")\n",
    "\n",
    "# Use the timestamp in the filename\n",
    "plt.savefig(r'images\\outputs\\img_w_message_{}.png'.format(timestamp), dpi=300)"
   ]
  },
  {
   "cell_type": "code",
   "execution_count": null,
   "metadata": {},
   "outputs": [],
   "source": []
  }
 ],
 "metadata": {
  "kernelspec": {
   "display_name": "Python 3 (ipykernel)",
   "language": "python",
   "name": "python3"
  },
  "language_info": {
   "codemirror_mode": {
    "name": "ipython",
    "version": 3
   },
   "file_extension": ".py",
   "mimetype": "text/x-python",
   "name": "python",
   "nbconvert_exporter": "python",
   "pygments_lexer": "ipython3",
   "version": "3.10.12"
  }
 },
 "nbformat": 4,
 "nbformat_minor": 4
}
